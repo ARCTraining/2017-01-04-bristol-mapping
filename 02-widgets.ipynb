{
 "cells": [
  {
   "cell_type": "code",
   "execution_count": null,
   "metadata": {
    "collapsed": false
   },
   "outputs": [],
   "source": [
    "from netCDF4 import Dataset, num2date, date2num\n",
    "from numpy import *\n",
    "import matplotlib.pyplot as plt\n",
    "%matplotlib inline\n"
   ]
  },
  {
   "cell_type": "code",
   "execution_count": null,
   "metadata": {
    "collapsed": true
   },
   "outputs": [],
   "source": [
    "from ipywidgets import interact, interactive, fixed\n",
    "import ipywidgets as widgets"
   ]
  },
  {
   "cell_type": "code",
   "execution_count": null,
   "metadata": {
    "collapsed": true
   },
   "outputs": [],
   "source": [
    "x=linspace(0,1,100)\n",
    "f=2"
   ]
  },
  {
   "cell_type": "code",
   "execution_count": null,
   "metadata": {
    "collapsed": false
   },
   "outputs": [],
   "source": [
    "plt.plot(x, sin(2*pi*x*f))"
   ]
  },
  {
   "cell_type": "code",
   "execution_count": null,
   "metadata": {
    "collapsed": true
   },
   "outputs": [],
   "source": [
    "def pltsin(f):\n",
    "    plt.plot(x,sin(2*pi*x*f))"
   ]
  },
  {
   "cell_type": "code",
   "execution_count": null,
   "metadata": {
    "collapsed": false
   },
   "outputs": [],
   "source": [
    "pltsin(9)\n"
   ]
  },
  {
   "cell_type": "code",
   "execution_count": null,
   "metadata": {
    "collapsed": false
   },
   "outputs": [],
   "source": [
    "interact(pltsin, f=(1,10,0.1))"
   ]
  },
  {
   "cell_type": "markdown",
   "metadata": {},
   "source": [
    "## Add to the function to allow amplitude to be varied and add in an additional slider to vary both f and a"
   ]
  },
  {
   "cell_type": "markdown",
   "metadata": {},
   "source": [
    "Hint: you might want to limit the magnitude of 'y' in the plot- look up matplotlib ylim"
   ]
  },
  {
   "cell_type": "code",
   "execution_count": null,
   "metadata": {
    "collapsed": true
   },
   "outputs": [],
   "source": [
    "def pltsin(f ,a):\n",
    "    plt.plot(x,a*sin(2*pi*x*f))\n",
    "    plt.ylim(-10.5, 10.5)"
   ]
  },
  {
   "cell_type": "code",
   "execution_count": null,
   "metadata": {
    "collapsed": false
   },
   "outputs": [],
   "source": [
    "interact(pltsin, f=(1,10,0.1), a=(1, 10, 0.1))"
   ]
  },
  {
   "cell_type": "markdown",
   "metadata": {},
   "source": [
    "## Climate data"
   ]
  },
  {
   "cell_type": "code",
   "execution_count": null,
   "metadata": {
    "collapsed": true
   },
   "outputs": [],
   "source": [
    "f=Dataset('air.sig995.2013.nc')"
   ]
  },
  {
   "cell_type": "code",
   "execution_count": null,
   "metadata": {
    "collapsed": true
   },
   "outputs": [],
   "source": [
    "air=f.variables['air']  #get variable"
   ]
  },
  {
   "cell_type": "code",
   "execution_count": null,
   "metadata": {
    "collapsed": false
   },
   "outputs": [],
   "source": [
    "plt.imshow(air[0,:,:])  #display first timestep"
   ]
  },
  {
   "cell_type": "code",
   "execution_count": null,
   "metadata": {
    "collapsed": true
   },
   "outputs": [],
   "source": [
    "#Create  function to browse through the days\n",
    "\n",
    "def sh(time):\n",
    "    plt.imshow(air[time,:,:])"
   ]
  },
  {
   "cell_type": "code",
   "execution_count": null,
   "metadata": {
    "collapsed": false
   },
   "outputs": [],
   "source": [
    "# Now make it interactive\n",
    "\n",
    "interact(sh, time=(0,355,1))"
   ]
  },
  {
   "cell_type": "code",
   "execution_count": null,
   "metadata": {
    "collapsed": true
   },
   "outputs": [],
   "source": [
    "# Browse variable\n",
    "\n",
    "def sh(var='air', time=0):\n",
    "    f=Dataset(var+'.sig995.2013.nc')\n",
    "    vv=f.variables[var]\n",
    "    plt.imshow(vv[time,:,:])"
   ]
  },
  {
   "cell_type": "code",
   "execution_count": null,
   "metadata": {
    "collapsed": true
   },
   "outputs": [],
   "source": [
    "# Give a list of variables\n",
    "\n",
    "variabs = ['air', 'uwnd', 'vwnd', 'rhum']"
   ]
  },
  {
   "cell_type": "code",
   "execution_count": null,
   "metadata": {
    "collapsed": false
   },
   "outputs": [],
   "source": [
    "# Now interact with it\n",
    "\n",
    "interact(sh, time=(0,355,1), var=variabs)"
   ]
  },
  {
   "cell_type": "markdown",
   "metadata": {},
   "source": [
    "### Add functionality to interact with the years"
   ]
  },
  {
   "cell_type": "code",
   "execution_count": null,
   "metadata": {
    "collapsed": true
   },
   "outputs": [],
   "source": [
    "def sh(year='2013', var='air', time=0):\n",
    "    f=Dataset(var+'.sig995.'+year+'.nc')\n",
    "    vv=f.variables[var]\n",
    "    plt.imshow(vv[time,:,:])"
   ]
  },
  {
   "cell_type": "code",
   "execution_count": null,
   "metadata": {
    "collapsed": true
   },
   "outputs": [],
   "source": [
    "# Create a list of years\n",
    "\n",
    "years =[str(x) for x in range(2013, 2016)]"
   ]
  },
  {
   "cell_type": "code",
   "execution_count": null,
   "metadata": {
    "collapsed": false
   },
   "outputs": [],
   "source": [
    "# Interact with it\n",
    "\n",
    "interact(sh, year=years, time=(0,355,1), var=variabs)\n"
   ]
  },
  {
   "cell_type": "markdown",
   "metadata": {},
   "source": [
    "### Now plot this on a map projection"
   ]
  },
  {
   "cell_type": "code",
   "execution_count": null,
   "metadata": {
    "collapsed": false
   },
   "outputs": [],
   "source": [
    "from mpl_toolkits.basemap import Basemap"
   ]
  },
  {
   "cell_type": "code",
   "execution_count": null,
   "metadata": {
    "collapsed": false
   },
   "outputs": [],
   "source": [
    "# create north polar stereographic projection\n",
    "\n",
    "m=Basemap(projection='npstere', boundinglat=60, lon_0=0, resolution='l')\n",
    "m.fillcontinents(color='gray',lake_color='gray')\n",
    "m.drawparallels(arange(-80.,81.,20.))\n",
    "m.drawmeridians(arange(-180.,181.,20.))\n",
    "m.drawmapboundary(fill_color='white')"
   ]
  },
  {
   "cell_type": "code",
   "execution_count": null,
   "metadata": {
    "collapsed": true
   },
   "outputs": [],
   "source": [
    "# Set up some variables\n",
    "lon = f.variables['lon'][:]\n",
    "lat = f.variables['lat'][:]\n",
    "lon, lat = meshgrid(lon, lat)\n",
    "x, y = m(lon, lat)"
   ]
  },
  {
   "cell_type": "code",
   "execution_count": null,
   "metadata": {
    "collapsed": true
   },
   "outputs": [],
   "source": [
    "# A more complex function incorporating all aspects\n",
    "\n",
    "def sh(year='2013', var='air', time=0):\n",
    "    f = Dataset(var+'.sig995.'+year+'.nc')\n",
    "    vv = f.variables[var]\n",
    "    tt = f.variables['time']\n",
    "    dd = num2date(tt[time], tt.units)\n",
    "    m.fillcontinents(color='gray',lake_color='gray')\n",
    "    m.drawparallels(arange(-80.,81.,20.))\n",
    "    m.drawmeridians(arange(-180.,181.,20.))\n",
    "    m.drawmapboundary(fill_color='white')\n",
    "    cs = m.contourf(x,y,vv[time,:,:]-273.15)\n",
    "    #imshow(vv[time,:,:])\n"
   ]
  },
  {
   "cell_type": "code",
   "execution_count": null,
   "metadata": {
    "collapsed": false
   },
   "outputs": [],
   "source": [
    "# Now interact with the data\n",
    "\n",
    "interact(sh, year=years, time=(0,355,1), var=variabs)"
   ]
  },
  {
   "cell_type": "code",
   "execution_count": null,
   "metadata": {
    "collapsed": false
   },
   "outputs": [],
   "source": [
    "my_map = Basemap (projection='merc', lat_0=52, lon_0=0,\n",
    "                 resolution='h', area_thresh=1000.0,\n",
    "                 llcrnrlon=-1, llcrnrlat=51,\n",
    "                 urcrnrlon=2, urcrnrlat=53)\n",
    "\n",
    "my_map.drawcoastlines()\n",
    "\n",
    "my_map.drawcountries()\n",
    "my_map.fillcontinents(color='coral')\n",
    "\n",
    "my_map.drawmapboundary()\n",
    "\n",
    "my_map.drawmeridians(arange(0,360,30))\n",
    "my_map.drawparallels(arange(-90, 90, 30))\n",
    "\n",
    "lon=0\n",
    "lat=52\n",
    "\n",
    "x,y=my_map(lon, lat)\n",
    "my_map.plot(x, y, 'bo', markersize=7.2)\n",
    "plt.show()"
   ]
  },
  {
   "cell_type": "code",
   "execution_count": null,
   "metadata": {
    "collapsed": false
   },
   "outputs": [],
   "source": [
    "%pwd"
   ]
  },
  {
   "cell_type": "code",
   "execution_count": null,
   "metadata": {
    "collapsed": true
   },
   "outputs": [],
   "source": []
  }
 ],
 "metadata": {
  "kernelspec": {
   "display_name": "Python 3",
   "language": "python",
   "name": "python3"
  },
  "language_info": {
   "codemirror_mode": {
    "name": "ipython",
    "version": 3
   },
   "file_extension": ".py",
   "mimetype": "text/x-python",
   "name": "python",
   "nbconvert_exporter": "python",
   "pygments_lexer": "ipython3",
   "version": "3.5.1"
  }
 },
 "nbformat": 4,
 "nbformat_minor": 0
}
